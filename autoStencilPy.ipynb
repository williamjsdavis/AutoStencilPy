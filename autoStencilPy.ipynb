{
 "cells": [
  {
   "cell_type": "markdown",
   "metadata": {},
   "source": [
    "# Python version"
   ]
  },
  {
   "cell_type": "code",
   "execution_count": 1,
   "metadata": {},
   "outputs": [],
   "source": [
    "import AutoStencil as austen"
   ]
  },
  {
   "cell_type": "code",
   "execution_count": 2,
   "metadata": {},
   "outputs": [],
   "source": [
    "sampleIndices = [-2, -1, 0, 1, 2]\n",
    "derivativeOrder = 3"
   ]
  },
  {
   "cell_type": "code",
   "execution_count": 3,
   "metadata": {},
   "outputs": [
    {
     "name": "stdout",
     "output_type": "stream",
     "text": [
      "[[ 1,  1,  1,  1,  1],\n",
      " [-2, -1,  0,  1,  2],\n",
      " [ 4,  1,  0,  1,  4],\n",
      " [-8, -1,  0,  1,  8],\n",
      " [16,  1,  0,  1, 16]]\n",
      "[[    0,  1/12, -1/24, -1/12,  1/24],\n",
      " [    0,  -2/3,   2/3,   1/6,  -1/6],\n",
      " [    1,     0,  -5/4,     0,   1/4],\n",
      " [    0,   2/3,   2/3,  -1/6,  -1/6],\n",
      " [    0, -1/12, -1/24,  1/12,  1/24]]\n",
      "[[0],\n",
      " [0],\n",
      " [0],\n",
      " [6],\n",
      " [0]]\n",
      "[[-1/2],\n",
      " [   1],\n",
      " [   0],\n",
      " [  -1],\n",
      " [ 1/2]]\n",
      "check\n"
     ]
    },
    {
     "ename": "TypeError",
     "evalue": "unsupported operand type(s) for -: 'RationalVector' and 'RationalVector'",
     "output_type": "error",
     "traceback": [
      "\u001b[0;31m---------------------------------------------------------------------------\u001b[0m",
      "\u001b[0;31mTypeError\u001b[0m                                 Traceback (most recent call last)",
      "\u001b[0;32m<ipython-input-3-dc2994d4a006>\u001b[0m in \u001b[0;36m<module>\u001b[0;34m()\u001b[0m\n\u001b[0;32m----> 1\u001b[0;31m \u001b[0mnewNumerators\u001b[0m\u001b[0;34m,\u001b[0m \u001b[0mlcmDenom\u001b[0m \u001b[0;34m=\u001b[0m \u001b[0mausten\u001b[0m\u001b[0;34m.\u001b[0m\u001b[0mcomputeStencil\u001b[0m\u001b[0;34m(\u001b[0m\u001b[0msampleIndices\u001b[0m\u001b[0;34m,\u001b[0m \u001b[0mderivativeOrder\u001b[0m\u001b[0;34m)\u001b[0m\u001b[0;34m\u001b[0m\u001b[0m\n\u001b[0m\u001b[1;32m      2\u001b[0m \u001b[0mprint\u001b[0m\u001b[0;34m(\u001b[0m\u001b[0mnewNumerators\u001b[0m\u001b[0;34m)\u001b[0m\u001b[0;34m\u001b[0m\u001b[0m\n\u001b[1;32m      3\u001b[0m \u001b[0mprint\u001b[0m\u001b[0;34m(\u001b[0m\u001b[0mlcmDenom\u001b[0m\u001b[0;34m)\u001b[0m\u001b[0;34m\u001b[0m\u001b[0m\n",
      "\u001b[0;32m~/Documents/python/AutoStencils/AutoStencil.py\u001b[0m in \u001b[0;36mcomputeStencil\u001b[0;34m(C, d)\u001b[0m\n\u001b[1;32m    148\u001b[0m     \u001b[0mprint\u001b[0m\u001b[0;34m(\u001b[0m\u001b[0mres\u001b[0m\u001b[0;34m)\u001b[0m\u001b[0;34m\u001b[0m\u001b[0m\n\u001b[1;32m    149\u001b[0m     \u001b[0mprint\u001b[0m\u001b[0;34m(\u001b[0m\u001b[0;34m'check'\u001b[0m\u001b[0;34m)\u001b[0m\u001b[0;34m\u001b[0m\u001b[0m\n\u001b[0;32m--> 150\u001b[0;31m     \u001b[0mprint\u001b[0m\u001b[0;34m(\u001b[0m\u001b[0;34m(\u001b[0m\u001b[0mratM\u001b[0m \u001b[0;34m@\u001b[0m \u001b[0mres\u001b[0m\u001b[0;34m)\u001b[0m \u001b[0;34m-\u001b[0m \u001b[0mratA\u001b[0m\u001b[0;34m)\u001b[0m\u001b[0;34m\u001b[0m\u001b[0m\n\u001b[0m\u001b[1;32m    151\u001b[0m \u001b[0;34m\u001b[0m\u001b[0m\n\u001b[1;32m    152\u001b[0m     \u001b[0mnewNumerators\u001b[0m\u001b[0;34m,\u001b[0m \u001b[0mlcmDenom\u001b[0m \u001b[0;34m=\u001b[0m \u001b[0m_integerRepresentation\u001b[0m\u001b[0;34m(\u001b[0m\u001b[0mres\u001b[0m\u001b[0;34m)\u001b[0m\u001b[0;34m\u001b[0m\u001b[0m\n",
      "\u001b[0;31mTypeError\u001b[0m: unsupported operand type(s) for -: 'RationalVector' and 'RationalVector'"
     ]
    }
   ],
   "source": [
    "newNumerators, lcmDenom = austen.computeStencil(sampleIndices, derivativeOrder)\n",
    "print(newNumerators)\n",
    "print(lcmDenom)"
   ]
  },
  {
   "cell_type": "code",
   "execution_count": null,
   "metadata": {},
   "outputs": [],
   "source": []
  },
  {
   "cell_type": "code",
   "execution_count": 4,
   "metadata": {},
   "outputs": [
    {
     "data": {
      "text/plain": [
       "'d3f[i] = (-f[i-2]+2*f[i-1]-2*f[i+1]+f[i+2])/(2*h^3)'"
      ]
     },
     "execution_count": 4,
     "metadata": {},
     "output_type": "execute_result"
    }
   ],
   "source": [
    "austen.stencilCode([-2,-1,0,1,2], 3, 'f', 'i', 'h')"
   ]
  },
  {
   "cell_type": "code",
   "execution_count": 5,
   "metadata": {},
   "outputs": [
    {
     "name": "stdout",
     "output_type": "stream",
     "text": [
      "\\frac{\\partial^3 f}{\\partial i^3}\\approx \\frac{-f(i-2h)+2f(i-h)-2f(i+h)+f(i+2h)}{2h^3}\n"
     ]
    }
   ],
   "source": [
    "print(austen.stencilLatex([-2,-1,0,1,2], 3, 'f', 'i', 'h'))"
   ]
  },
  {
   "cell_type": "code",
   "execution_count": 6,
   "metadata": {},
   "outputs": [
    {
     "data": {
      "text/plain": [
       "(array([-1,  2,  0, -2,  1]), 2)"
      ]
     },
     "execution_count": 6,
     "metadata": {},
     "output_type": "execute_result"
    }
   ],
   "source": [
    "austen.computeStencil([-2,-1,0,1,2], 3)"
   ]
  },
  {
   "cell_type": "code",
   "execution_count": null,
   "metadata": {},
   "outputs": [],
   "source": []
  },
  {
   "cell_type": "markdown",
   "metadata": {},
   "source": [
    "# Parsing string inputs"
   ]
  },
  {
   "cell_type": "code",
   "execution_count": 7,
   "metadata": {},
   "outputs": [],
   "source": [
    "pointsString = '-2,1,0, -1.99999999,  2 '\n",
    "dimString = '2'"
   ]
  },
  {
   "cell_type": "code",
   "execution_count": 8,
   "metadata": {},
   "outputs": [
    {
     "data": {
      "text/plain": [
       "('\\\\frac{\\\\partial^2 f}{\\\\partial x^2}\\\\approx \\\\frac{-f(x-2h)+16f(x-h)-30f(x)+16f(x+h)-f(x+2h)}{12h^2}',\n",
       " 'd2f[i] = (-f[i-2]+16*f[i-1]-30*f[i]+16*f[i+1]-f[i+2])/(12*h^2)')"
      ]
     },
     "execution_count": 8,
     "metadata": {},
     "output_type": "execute_result"
    }
   ],
   "source": [
    "austen.parseStringInputs(pointsString, dimString)"
   ]
  },
  {
   "cell_type": "code",
   "execution_count": 9,
   "metadata": {},
   "outputs": [
    {
     "data": {
      "text/plain": [
       "('\\\\frac{\\\\partial^2 f}{\\\\partial x^2}\\\\approx \\\\frac{-f(x-2h)+16f(x-h)-30f(x)+16f(x+h)-f(x+2h)}{12h^2}',\n",
       " 'd2f[i] = (-f[i-2]+16*f[i-1]-30*f[i]+16*f[i+1]-f[i+2])/(12*h^2)')"
      ]
     },
     "execution_count": 9,
     "metadata": {},
     "output_type": "execute_result"
    }
   ],
   "source": [
    "austen.parseStringInputs('-2,1,0, -1,  2 ', '2')"
   ]
  },
  {
   "cell_type": "code",
   "execution_count": 10,
   "metadata": {},
   "outputs": [
    {
     "name": "stdout",
     "output_type": "stream",
     "text": [
      "................................\n",
      "----------------------------------------------------------------------\n",
      "Ran 32 tests in 0.037s\n",
      "\n",
      "OK\n"
     ]
    }
   ],
   "source": [
    "!python test_basic.py"
   ]
  },
  {
   "cell_type": "code",
   "execution_count": 20,
   "metadata": {},
   "outputs": [],
   "source": [
    "import RationalAlgebra as ra\n",
    "import numpy as np\n",
    "from fractions import Fraction"
   ]
  },
  {
   "cell_type": "code",
   "execution_count": 27,
   "metadata": {},
   "outputs": [
    {
     "name": "stdout",
     "output_type": "stream",
     "text": [
      "[[[[Fraction(0, 1) Fraction(0, 1) Fraction(1, 8)]]]]\n"
     ]
    }
   ],
   "source": [
    "r1 = ra.RationalMatrix(np.matrix([Fraction(1,2),Fraction(1,3),Fraction(1,4)]))\n",
    "r2 = ra.RationalMatrix(np.matrix([Fraction(1,2),Fraction(1,3),Fraction(1,8)]))\n",
    "print(r1 - r2)"
   ]
  },
  {
   "cell_type": "code",
   "execution_count": null,
   "metadata": {},
   "outputs": [],
   "source": []
  }
 ],
 "metadata": {
  "@webio": {
   "lastCommId": null,
   "lastKernelId": null
  },
  "kernelspec": {
   "display_name": "Python 3",
   "language": "python",
   "name": "python3"
  },
  "language_info": {
   "codemirror_mode": {
    "name": "ipython",
    "version": 3
   },
   "file_extension": ".py",
   "mimetype": "text/x-python",
   "name": "python",
   "nbconvert_exporter": "python",
   "pygments_lexer": "ipython3",
   "version": "3.6.5"
  }
 },
 "nbformat": 4,
 "nbformat_minor": 4
}
